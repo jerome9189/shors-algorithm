{
 "cells": [
  {
   "cell_type": "code",
   "execution_count": 1,
   "metadata": {},
   "outputs": [
    {
     "name": "stdout",
     "output_type": "stream",
     "text": [
      "Imports Successful\n"
     ]
    }
   ],
   "source": [
    "from qiskit import QuantumCircuit, Aer, execute\n",
    "from qiskit.visualization import plot_histogram\n",
    "from math import gcd\n",
    "import matplotlib.pyplot as plt\n",
    "import numpy as np\n",
    "from tabulate import tabulate\n",
    "from numpy.random import randint\n",
    "print(\"Imports Successful\")"
   ]
  },
  {
   "cell_type": "code",
   "execution_count": 2,
   "metadata": {},
   "outputs": [],
   "source": [
    "def c_amod15(a, power):\n",
    "    \"\"\"Controlled multiplication by a mod 15\"\"\"\n",
    "    # making sure that we choose a non-trivial value for a\n",
    "    if a not in [2,7,8,11,13]:\n",
    "        raise ValueError(\"'a' must be 2,7,8,11 or 13\")\n",
    "    # we need at least 4 qubits to define values up to 14\n",
    "    U = QuantumCircuit(4)        \n",
    "    # apply binary transformations to implement modular multiplication\n",
    "    for iteration in range(power):\n",
    "        if a in [2,13]:\n",
    "            U.swap(0,1)\n",
    "            U.swap(1,2)\n",
    "            U.swap(2,3)\n",
    "        if a in [7,8]:\n",
    "            U.swap(2,3)\n",
    "            U.swap(1,2)\n",
    "            U.swap(0,1)\n",
    "        if a == 11:\n",
    "            U.swap(1,3)\n",
    "            U.swap(0,2)\n",
    "        if a in [7,11,13]:\n",
    "            for q in range(4):\n",
    "                U.x(q)\n",
    "    U = U.to_gate()\n",
    "    U.name = \"%i^%i mod 15\" % (a, power)\n",
    "    c_U = U.control()\n",
    "    return c_U"
   ]
  },
  {
   "cell_type": "code",
   "execution_count": 3,
   "metadata": {},
   "outputs": [],
   "source": [
    "def qft_dagger(n):\n",
    "    \"\"\"n-qubit QFTdagger (QFT inverse) the first n qubits in circ\"\"\"\n",
    "    qc = QuantumCircuit(n)\n",
    "    # Don't forget the Swaps!\n",
    "    for qubit in range(n//2):\n",
    "        qc.swap(qubit, n-qubit-1)\n",
    "    for j in range(n):\n",
    "        for m in range(j):\n",
    "            qc.cu1(-np.pi/float(2**(j-m)), m, j)\n",
    "        qc.h(j)\n",
    "    qc.name = \"QFT†\"\n",
    "    return qc"
   ]
  },
  {
   "cell_type": "code",
   "execution_count": 4,
   "metadata": {},
   "outputs": [
    {
     "data": {
      "text/html": [
       "<pre style=\"word-wrap: normal;white-space: pre;background: #fff0;line-height: 1.1;font-family: &quot;Courier New&quot;,Courier,monospace\">     ┌───┐                                             ┌───────┐┌─┐      \n",
       "q_0: ┤ H ├───────■─────────────────────────────────────┤0      ├┤M├──────\n",
       "     ├───┤       │                                     │       │└╥┘┌─┐   \n",
       "q_1: ┤ H ├───────┼──────────────■──────────────────────┤1 QFT† ├─╫─┤M├───\n",
       "     ├───┤       │              │                      │       │ ║ └╥┘┌─┐\n",
       "q_2: ┤ H ├───────┼──────────────┼──────────────■───────┤2      ├─╫──╫─┤M├\n",
       "     └───┘┌─────┴┼──────┐┌─────┴┼──────┐┌─────┴┼──────┐└───────┘ ║  ║ └╥┘\n",
       "q_3: ─────┤0     │      ├┤0     │      ├┤0     │      ├──────────╫──╫──╫─\n",
       "          │             ││             ││             │          ║  ║  ║ \n",
       "q_4: ─────┤1            ├┤1            ├┤1            ├──────────╫──╫──╫─\n",
       "          │  7^1 mod 15 ││  7^2 mod 15 ││  7^4 mod 15 │          ║  ║  ║ \n",
       "q_5: ─────┤2            ├┤2            ├┤2            ├──────────╫──╫──╫─\n",
       "     ┌───┐│             ││             ││             │          ║  ║  ║ \n",
       "q_6: ┤ X ├┤3            ├┤3            ├┤3            ├──────────╫──╫──╫─\n",
       "     └───┘└─────────────┘└─────────────┘└─────────────┘          ║  ║  ║ \n",
       "c_0: ════════════════════════════════════════════════════════════╩══╬══╬═\n",
       "                                                                    ║  ║ \n",
       "c_1: ═══════════════════════════════════════════════════════════════╩══╬═\n",
       "                                                                       ║ \n",
       "c_2: ══════════════════════════════════════════════════════════════════╩═\n",
       "                                                                         </pre>"
      ],
      "text/plain": [
       "     ┌───┐                                             ┌───────┐┌─┐      \n",
       "q_0: ┤ H ├───────■─────────────────────────────────────┤0      ├┤M├──────\n",
       "     ├───┤       │                                     │       │└╥┘┌─┐   \n",
       "q_1: ┤ H ├───────┼──────────────■──────────────────────┤1 QFT† ├─╫─┤M├───\n",
       "     ├───┤       │              │                      │       │ ║ └╥┘┌─┐\n",
       "q_2: ┤ H ├───────┼──────────────┼──────────────■───────┤2      ├─╫──╫─┤M├\n",
       "     └───┘┌─────┴┼──────┐┌─────┴┼──────┐┌─────┴┼──────┐└───────┘ ║  ║ └╥┘\n",
       "q_3: ─────┤0     │      ├┤0     │      ├┤0     │      ├──────────╫──╫──╫─\n",
       "          │             ││             ││             │          ║  ║  ║ \n",
       "q_4: ─────┤1            ├┤1            ├┤1            ├──────────╫──╫──╫─\n",
       "          │  7^1 mod 15 ││  7^2 mod 15 ││  7^4 mod 15 │          ║  ║  ║ \n",
       "q_5: ─────┤2            ├┤2            ├┤2            ├──────────╫──╫──╫─\n",
       "     ┌───┐│             ││             ││             │          ║  ║  ║ \n",
       "q_6: ┤ X ├┤3            ├┤3            ├┤3            ├──────────╫──╫──╫─\n",
       "     └───┘└─────────────┘└─────────────┘└─────────────┘          ║  ║  ║ \n",
       "c_0: ════════════════════════════════════════════════════════════╩══╬══╬═\n",
       "                                                                    ║  ║ \n",
       "c_1: ═══════════════════════════════════════════════════════════════╩══╬═\n",
       "                                                                       ║ \n",
       "c_2: ══════════════════════════════════════════════════════════════════╩═\n",
       "                                                                         "
      ]
     },
     "execution_count": 4,
     "metadata": {},
     "output_type": "execute_result"
    }
   ],
   "source": [
    "# Specify variables\n",
    "n_count = 3 # number of counting qubits\n",
    "a = 7\n",
    "\n",
    "# Create QuantumCircuit\n",
    "# first register has 3 qubits, second register has 4 qubits\n",
    "qc = QuantumCircuit(4+n_count, n_count)\n",
    "\n",
    "# Initialise counting qubits\n",
    "# in state |+> (uniform superposition)\n",
    "for q in range(n_count):\n",
    "    qc.h(q)\n",
    "    \n",
    "# And ancilla register in state |1>\n",
    "qc.x(3+n_count)\n",
    "\n",
    "# Do controlled-U operations\n",
    "for q in range(n_count):\n",
    "    qc.append(c_amod15(a, 2**q), \n",
    "             [q] + [i+n_count for i in range(4)])\n",
    "\n",
    "# Do inverse-QFT\n",
    "qc.append(qft_dagger(n_count), range(n_count))\n",
    "\n",
    "# Measure circuit\n",
    "qc.measure(range(n_count), range(n_count))\n",
    "qc.draw('text')"
   ]
  },
  {
   "cell_type": "code",
   "execution_count": 5,
   "metadata": {},
   "outputs": [
    {
     "data": {
      "image/png": "[encoded data removed]",
      "text/plain": [
       "<Figure size 504x360 with 1 Axes>"
      ]
     },
     "execution_count": 5,
     "metadata": {},
     "output_type": "execute_result"
    }
   ],
   "source": [
    "backend = Aer.get_backend('qasm_simulator')\n",
    "# seeded for reproducibility\n",
    "results = execute(qc, backend, shots=2048, seed_simulator=42).result()\n",
    "counts = results.get_counts()\n",
    "plot_histogram(counts)"
   ]
  },
  {
   "cell_type": "code",
   "execution_count": 6,
   "metadata": {},
   "outputs": [
    {
     "name": "stdout",
     "output_type": "stream",
     "text": [
      "Register Output    Phase\n",
      "-----------------  ----------\n",
      "100(bin) = 4(dec)  4/8 = 0.50\n",
      "000(bin) = 0(dec)  0/8 = 0.00\n",
      "010(bin) = 2(dec)  2/8 = 0.25\n",
      "110(bin) = 6(dec)  6/8 = 0.75\n"
     ]
    }
   ],
   "source": [
    "rows, eigenvalues = [], []\n",
    "# getting phase estimates for the outputs\n",
    "for output in counts:\n",
    "    decimal = int(output, 2)\n",
    "    eigenvalue = decimal/(2**n_count)\n",
    "    eigenvalues.append(eigenvalue)\n",
    "    rows.append([\"%s(bin) = %i(dec)\" % (output, decimal), \"%i/%i = %.2f\" % (decimal, 2**n_count, eigenvalue)])\n",
    "print(tabulate(rows, headers=[\"Register Output\", \"Phase\"]))"
   ]
  },
  {
   "cell_type": "code",
   "execution_count": 7,
   "metadata": {},
   "outputs": [
    {
     "name": "stdout",
     "output_type": "stream",
     "text": [
      "(1, 2)\n",
      "(1, 4)\n",
      "(3, 4)\n"
     ]
    }
   ],
   "source": [
    "# we use the built-in fraction expansion to find the values of r and test them\n",
    "print(0.5.as_integer_ratio())\n",
    "print(0.25.as_integer_ratio())\n",
    "print(0.75.as_integer_ratio())\n",
    "# 2 of the values corresponds to an order or period of 4\n",
    "# we verify that 7^4 = 1(mod 15), so we have found the order"
   ]
  },
  {
   "cell_type": "code",
   "execution_count": 8,
   "metadata": {},
   "outputs": [
    {
     "name": "stdout",
     "output_type": "stream",
     "text": [
      "50\n",
      "48\n"
     ]
    }
   ],
   "source": [
    "# since 4 is even, then we can compute (a^{r/2} - 1), ((a^{r/2} - 1))\n",
    "r = 4\n",
    "res_1 = int(a**(4/2) + 1)\n",
    "res_2 = int(a**(4/2) - 1)\n",
    "print(res_1)\n",
    "print(res_2)"
   ]
  },
  {
   "cell_type": "code",
   "execution_count": 9,
   "metadata": {},
   "outputs": [
    {
     "name": "stdout",
     "output_type": "stream",
     "text": [
      "5\n",
      "3\n"
     ]
    }
   ],
   "source": [
    "# we notice that neither are non-trivial factors!\n",
    "import math\n",
    "print(math.gcd(res_1, 15))\n",
    "print(math.gcd(res_2, 15))"
   ]
  },
  {
   "cell_type": "code",
   "execution_count": null,
   "metadata": {},
   "outputs": [],
   "source": []
  }
 ],
 "metadata": {
  "kernelspec": {
   "display_name": "Python 3",
   "language": "python",
   "name": "python3"
  },
  "language_info": {
   "codemirror_mode": {
    "name": "ipython",
    "version": 3
   },
   "file_extension": ".py",
   "mimetype": "text/x-python",
   "name": "python",
   "nbconvert_exporter": "python",
   "pygments_lexer": "ipython3",
   "version": "3.7.6"
  }
 },
 "nbformat": 4,
 "nbformat_minor": 4
}
